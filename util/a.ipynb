{
 "cells": [
  {
   "cell_type": "code",
   "execution_count": 30,
   "metadata": {},
   "outputs": [],
   "source": [
    "import pandas as pd\n",
    "import numpy as np"
   ]
  },
  {
   "cell_type": "code",
   "execution_count": 31,
   "metadata": {},
   "outputs": [],
   "source": [
    "\n",
    "def get_data(path):\n",
    "    file = open(path, 'r')\n",
    "    data = file.read()\n",
    "    data = data.split('\\n')\n",
    "    new_data = []\n",
    "    for d in data:\n",
    "        if d != '':\n",
    "            new_data.append(d.split(','))\n",
    "    return new_data"
   ]
  },
  {
   "cell_type": "code",
   "execution_count": 32,
   "metadata": {},
   "outputs": [],
   "source": [
    "\n",
    "def avg(a):\n",
    "    b = []\n",
    "    for i in range(len(a[0])):\n",
    "        c = [x[i] for x in a]\n",
    "        d = 0.0\n",
    "        for j in range(len(c)):\n",
    "            d += float(c[j])\n",
    "        b.append(d/len(c))\n",
    "    return b\n",
    "\n"
   ]
  },
  {
   "cell_type": "code",
   "execution_count": 33,
   "metadata": {},
   "outputs": [],
   "source": [
    "new_file = 'avg.csv'"
   ]
  },
  {
   "cell_type": "code",
   "execution_count": 34,
   "metadata": {},
   "outputs": [],
   "source": [
    "astar_path = '../astar.csv'\n",
    "bfs_path = '../bfs.csv'\n",
    "gbfs_path = '../gbfs.csv'\n",
    "idastar_path = '../idastar.csv'\n",
    "idfs_path = '../idfs.csv'\n",
    "paths = [astar_path, bfs_path, gbfs_path, idastar_path, idfs_path]\n",
    "avg_values = []\n",
    "for path in paths:\n",
    "    new_data = get_data(path)\n",
    "    avg_value = avg(new_data)\n",
    "    avg_values.append(avg_value)\n"
   ]
  },
  {
   "cell_type": "code",
   "execution_count": 35,
   "metadata": {},
   "outputs": [
    {
     "name": "stdout",
     "output_type": "stream",
     "text": [
      "            0       1         2          3      4\n",
      "0      895.00   22.16  0.005722  10.027754  13.88\n",
      "1    81459.54   22.16  0.610995   0.000000  13.88\n",
      "2      392.42  140.52  0.002471   6.893046  13.88\n",
      "3     2373.03   22.16  0.007692  10.432847  13.88\n",
      "4  2578290.56   22.16  6.848443   0.000000  13.88\n"
     ]
    }
   ],
   "source": [
    "avg_values = pd.DataFrame(avg_values)\n",
    "avg_values.to_csv(new_file, index=False)\n",
    "print(avg_values)"
   ]
  }
 ],
 "metadata": {
  "kernelspec": {
   "display_name": "base",
   "language": "python",
   "name": "python3"
  },
  "language_info": {
   "codemirror_mode": {
    "name": "ipython",
    "version": 3
   },
   "file_extension": ".py",
   "mimetype": "text/x-python",
   "name": "python",
   "nbconvert_exporter": "python",
   "pygments_lexer": "ipython3",
   "version": "3.12.7"
  }
 },
 "nbformat": 4,
 "nbformat_minor": 2
}
